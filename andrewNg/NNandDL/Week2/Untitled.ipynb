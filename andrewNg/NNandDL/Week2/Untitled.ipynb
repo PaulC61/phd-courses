{
 "cells": [
  {
   "cell_type": "code",
   "execution_count": 2,
   "id": "4c092ee1",
   "metadata": {},
   "outputs": [],
   "source": [
    "import numpy as np"
   ]
  },
  {
   "cell_type": "code",
   "execution_count": 4,
   "id": "41d10ed6",
   "metadata": {},
   "outputs": [],
   "source": [
    "a = np.random.randn(12288,150)"
   ]
  },
  {
   "cell_type": "code",
   "execution_count": 5,
   "id": "33cf92bf",
   "metadata": {},
   "outputs": [],
   "source": [
    "b = np.random.randn(150,45)"
   ]
  },
  {
   "cell_type": "code",
   "execution_count": 6,
   "id": "93bad083",
   "metadata": {},
   "outputs": [],
   "source": [
    "c = np.dot(a,b)"
   ]
  },
  {
   "cell_type": "code",
   "execution_count": 7,
   "id": "fa21369c",
   "metadata": {},
   "outputs": [
    {
     "data": {
      "text/plain": [
       "(12288, 45)"
      ]
     },
     "execution_count": 7,
     "metadata": {},
     "output_type": "execute_result"
    }
   ],
   "source": [
    "c.shape"
   ]
  },
  {
   "cell_type": "code",
   "execution_count": 9,
   "id": "a5a0c54c",
   "metadata": {},
   "outputs": [
    {
     "name": "stdout",
     "output_type": "stream",
     "text": [
      "[[ 0.46168465  0.71568111  1.2749096 ]\n",
      " [-1.29515579 -0.50708332 -0.48803755]\n",
      " [-1.52353151 -0.05234375 -1.59178319]]\n"
     ]
    }
   ],
   "source": [
    "a = np.random.randn(3,3)\n",
    "print(a)"
   ]
  },
  {
   "cell_type": "code",
   "execution_count": 10,
   "id": "2899d633",
   "metadata": {},
   "outputs": [
    {
     "name": "stdout",
     "output_type": "stream",
     "text": [
      "[[ 1.48634473]\n",
      " [ 0.28885676]\n",
      " [-0.32986996]]\n"
     ]
    }
   ],
   "source": [
    "b = np.random.randn(3,1)\n",
    "print(b)"
   ]
  },
  {
   "cell_type": "code",
   "execution_count": 11,
   "id": "fde159b5",
   "metadata": {},
   "outputs": [
    {
     "name": "stdout",
     "output_type": "stream",
     "text": [
      "[[ 0.68622254  1.06374884  1.89495516]\n",
      " [-0.3741145  -0.14647444 -0.14097294]\n",
      " [ 0.50256728  0.01726663  0.52508145]]\n"
     ]
    }
   ],
   "source": [
    "c = a * b\n",
    "print(c)"
   ]
  },
  {
   "cell_type": "code",
   "execution_count": null,
   "id": "70bb2655",
   "metadata": {},
   "outputs": [],
   "source": []
  }
 ],
 "metadata": {
  "kernelspec": {
   "display_name": "Python 3 (ipykernel)",
   "language": "python",
   "name": "python3"
  },
  "language_info": {
   "codemirror_mode": {
    "name": "ipython",
    "version": 3
   },
   "file_extension": ".py",
   "mimetype": "text/x-python",
   "name": "python",
   "nbconvert_exporter": "python",
   "pygments_lexer": "ipython3",
   "version": "3.9.7"
  }
 },
 "nbformat": 4,
 "nbformat_minor": 5
}
